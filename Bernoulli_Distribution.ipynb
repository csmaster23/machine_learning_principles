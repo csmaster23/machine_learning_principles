{
  "nbformat": 4,
  "nbformat_minor": 0,
  "metadata": {
    "colab": {
      "provenance": [],
      "authorship_tag": "ABX9TyNdnpWNlj/pXLC0Ayeg4WwJ",
      "include_colab_link": true
    },
    "kernelspec": {
      "name": "python3",
      "display_name": "Python 3"
    },
    "language_info": {
      "name": "python"
    }
  },
  "cells": [
    {
      "cell_type": "markdown",
      "metadata": {
        "id": "view-in-github",
        "colab_type": "text"
      },
      "source": [
        "<a href=\"https://colab.research.google.com/github/csmaster23/machine_learning_principles/blob/main/Bernoulli_Distribution.ipynb\" target=\"_parent\"><img src=\"https://colab.research.google.com/assets/colab-badge.svg\" alt=\"Open In Colab\"/></a>"
      ]
    },
    {
      "cell_type": "code",
      "execution_count": null,
      "metadata": {
        "id": "xaIEsdISTDsc"
      },
      "outputs": [],
      "source": [
        "'''\n",
        "  Bernoulli distribution is a discrete probability distribution for a random\n",
        "  variable which has only two possible outcomes (typically \"success\" and \"failure\").\n",
        "\n",
        "  The Bernoulli distribution plays a central role in binary classification,\n",
        "  where the goal is to predict one of two possible outcomes (e.g., spam vs.\n",
        "  not spam, fraud vs. no fraud). This type of classification models each outcome\n",
        "  as a Bernoulli random variable.\n",
        "'''"
      ]
    },
    {
      "cell_type": "code",
      "source": [
        "import numpy as np\n",
        "import matplotlib.pyplot as plt\n",
        "from sklearn.metrics import accuracy_score\n",
        "from sklearn.model_selection import train_test_split\n",
        "from sklearn.linear_model import LogisticRegression"
      ],
      "metadata": {
        "id": "eBaIvStdTdrT"
      },
      "execution_count": 9,
      "outputs": []
    },
    {
      "cell_type": "code",
      "source": [
        "# Simulating data: X = feature (length of email), y = 1 if spam, 0 if not\n",
        "np.random.seed(0)\n",
        "X = np.random.rand(1000, 1)  # Random email lengths between 0 and 1\n",
        "y = np.random.binomial(1, p=0.6, size=1000)  # 60% chance of spam"
      ],
      "metadata": {
        "id": "o3JzkWGXUVyB"
      },
      "execution_count": 10,
      "outputs": []
    },
    {
      "cell_type": "code",
      "source": [
        "# Split data into train and test sets\n",
        "X_train, X_test, y_train, y_test = train_test_split(X, y, test_size=0.3, random_state=42)"
      ],
      "metadata": {
        "id": "rESc0szvUY_4"
      },
      "execution_count": 11,
      "outputs": []
    },
    {
      "cell_type": "code",
      "source": [
        "# Train logistic regression model\n",
        "model = LogisticRegression()\n",
        "model.fit(X_train, y_train)\n",
        "\n",
        "# Predict spam for the test set\n",
        "y_pred = model.predict(X_test)\n",
        "\n",
        "# Evaluate the accuracy of the model\n",
        "accuracy = accuracy_score(y_test, y_pred)\n",
        "print(f\"Model accuracy: {accuracy * 100:.2f}%\")"
      ],
      "metadata": {
        "colab": {
          "base_uri": "https://localhost:8080/"
        },
        "id": "OdGBIKJaUdoc",
        "outputId": "da1a6ef7-7e1b-4038-8406-1d0ddef89927"
      },
      "execution_count": 12,
      "outputs": [
        {
          "output_type": "stream",
          "name": "stdout",
          "text": [
            "Model accuracy: 54.67%\n"
          ]
        }
      ]
    },
    {
      "cell_type": "code",
      "source": [
        "# Predicted probabilities for the test set\n",
        "y_pred_prob = model.predict_proba(X_test)[:, 1]  # Probability of being spam\n",
        "print(f\"Predicted probability for the first test email: {y_pred_prob[0]:.4f}\")"
      ],
      "metadata": {
        "colab": {
          "base_uri": "https://localhost:8080/"
        },
        "id": "pbcc0s6aUkuP",
        "outputId": "540ea4ab-b1f5-4336-b877-1afae6dcda3e"
      },
      "execution_count": 14,
      "outputs": [
        {
          "output_type": "stream",
          "name": "stdout",
          "text": [
            "Predicted probability for the first test email: 0.5842\n"
          ]
        }
      ]
    },
    {
      "cell_type": "code",
      "source": [
        "p = 0.3  # Probability of success\n",
        "trials = 1000\n",
        "data = np.random.binomial(1, p, trials)"
      ],
      "metadata": {
        "id": "haNIXjYpTc4j"
      },
      "execution_count": 13,
      "outputs": []
    },
    {
      "cell_type": "code",
      "source": [
        "plt.hist(data, bins=2, edgecolor='black')\n",
        "plt.xticks([0, 1], ['Failure', 'Success'])\n",
        "plt.title('Bernoulli Distribution')\n",
        "plt.show()"
      ],
      "metadata": {
        "colab": {
          "base_uri": "https://localhost:8080/",
          "height": 452
        },
        "id": "KN5aymH_Tf_c",
        "outputId": "527b4b76-dfda-45bb-e1c6-8683a35c06dd"
      },
      "execution_count": 7,
      "outputs": [
        {
          "output_type": "display_data",
          "data": {
            "text/plain": [
              "<Figure size 640x480 with 1 Axes>"
            ],
            "image/png": "[encoded data removed]"
          },
          "metadata": {}
        }
      ]
    },
    {
      "cell_type": "code",
      "source": [],
      "metadata": {
        "id": "DzRQY29pTlkq"
      },
      "execution_count": null,
      "outputs": []
    }
  ]
}
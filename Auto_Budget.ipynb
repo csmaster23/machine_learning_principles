{
  "nbformat": 4,
  "nbformat_minor": 0,
  "metadata": {
    "colab": {
      "provenance": [],
      "authorship_tag": "ABX9TyPoTSDuj7cAT0aC10fbp/G7",
      "include_colab_link": true
    },
    "kernelspec": {
      "name": "python3",
      "display_name": "Python 3"
    },
    "language_info": {
      "name": "python"
    }
  },
  "cells": [
    {
      "cell_type": "markdown",
      "metadata": {
        "id": "view-in-github",
        "colab_type": "text"
      },
      "source": [
        "<a href=\"https://colab.research.google.com/github/csmaster23/machine_learning_principles/blob/main/Auto_Budget.ipynb\" target=\"_parent\"><img src=\"https://colab.research.google.com/assets/colab-badge.svg\" alt=\"Open In Colab\"/></a>"
      ]
    },
    {
      "cell_type": "code",
      "source": [
        "import os\n",
        "import csv\n",
        "import time\n",
        "import numpy as np\n",
        "from google.colab import drive\n",
        "import matplotlib.pyplot as plt\n",
        "from IPython.display import clear_output"
      ],
      "metadata": {
        "id": "LDh0LRKGAf5q"
      },
      "execution_count": null,
      "outputs": []
    },
    {
      "cell_type": "code",
      "execution_count": null,
      "metadata": {
        "id": "ZLNIrrB7AF7K"
      },
      "outputs": [],
      "source": [
        "# Connect your google drive that houses the csv files\n",
        "month_year = \"September 2024\"\n",
        "drive.mount('/content/drive')\n",
        "file_path = '/content/drive/My Drive/Budgets/Auto_Budgets/2024/September/'  # Replace with your file path\n",
        "csv_name = 'Chase_Credit_Sept_2024.CSV'\n",
        "path = os.path.join(file_path, csv_name)\n",
        "print(path)"
      ]
    },
    {
      "cell_type": "code",
      "source": [
        "# Load csv where each row is a dictionary with the appropriate key words for each row from the column names\n",
        "def load_csv(file_path):\n",
        "  data = []\n",
        "  with open(file_path, 'r') as csvfile:\n",
        "    reader = csv.DictReader(csvfile)\n",
        "    for row in reader:\n",
        "      data.append(row)\n",
        "  return data\n",
        "print(f\"Loading {path}...\")\n",
        "data = load_csv(path)\n",
        "print(\"Finished.\")"
      ],
      "metadata": {
        "id": "azX3oN_tAZbg"
      },
      "execution_count": null,
      "outputs": []
    },
    {
      "cell_type": "code",
      "source": [
        "# Find all the potential column names from the uploaded csv\n",
        "keys = data[0].keys()\n",
        "print(keys)"
      ],
      "metadata": {
        "id": "BWHsbgu6BWgT"
      },
      "execution_count": null,
      "outputs": []
    },
    {
      "cell_type": "code",
      "source": [
        "# What are the categories you want for spending?\n",
        "spend_dict = {\n",
        "    0: (\"Groceries - Food\",           1000.0),\n",
        "    1: (\"Groceries - House\",           100.0),\n",
        "    2: (\"LinkedIn\",                     35.0),\n",
        "    3: (\"Savings\",                     200.0),\n",
        "    4: (\"Fast Food\",                   100.0),\n",
        "    5: (\"Date Nights\",                  50.0),\n",
        "    6: (\"iCloud Storage\",                5.0),\n",
        "    7: (\"Amazon Web Services\",           1.0),\n",
        "    8: (\"Internet\",                     60.0),\n",
        "}\n",
        "total_planned_spending = sum([spend_dict[key][1] for key in spend_dict.keys()])\n",
        "print(f\"Total planned spending: ${total_planned_spending}\")"
      ],
      "metadata": {
        "id": "bLdJ1GYdJUcB"
      },
      "execution_count": null,
      "outputs": []
    },
    {
      "cell_type": "code",
      "source": [
        "# What are the categories you want for earning?\n",
        "earn_dict = {\n",
        "    0: (\"W-2\",                      3000.0),\n",
        "}\n",
        "total_planned_earning = sum([earn_dict[key][1] for key in earn_dict.keys()])\n",
        "print(f\"Total planned earning: ${total_planned_earning}\")"
      ],
      "metadata": {
        "id": "IDheJHAPXYWe"
      },
      "execution_count": null,
      "outputs": []
    },
    {
      "cell_type": "code",
      "source": [
        "def spend_pretty_print(spend_dict):\n",
        "  # Calculate the max width for each field to align columns\n",
        "  key_width = max(len(str(key)) for key in spend_dict.keys())\n",
        "  first_col_width = max(len(str(spend_dict[key][0])) for key in spend_dict.keys())\n",
        "  second_col_width = max(len(str(spend_dict[key][1])) for key in spend_dict.keys())\n",
        "\n",
        "  # Define the format string for three columns\n",
        "  row_format = f\"{{:<{key_width}}}  {{:<{first_col_width}}}  {{:<{second_col_width}}}\"\n",
        "\n",
        "  # Print each entry in three columns\n",
        "  count = 0\n",
        "  for key in spend_dict.keys():\n",
        "      print(row_format.format(key, spend_dict[key][0], spend_dict[key][1]), end='    |    ')\n",
        "      count += 1\n",
        "      if count % 3 == 0:\n",
        "          print()  # Move to the next line after three columns\n",
        "\n",
        "  # If there are any remaining entries that don’t fill a full row, print a newline\n",
        "  if count % 3 != 0:\n",
        "      print()"
      ],
      "metadata": {
        "id": "ZTXdNxazPgYp"
      },
      "execution_count": null,
      "outputs": []
    },
    {
      "cell_type": "code",
      "source": [
        "spend_pretty_print(spend_dict)\n",
        "display_limit = 5\n",
        "sorted_spent = {}\n",
        "\n",
        "# Loop through each row in data\n",
        "for index, row in enumerate(data):\n",
        "    post_date = row['Post Date']\n",
        "    descr = row['Description']\n",
        "    amount = float(row['Amount'])\n",
        "\n",
        "    # Only process negative amounts\n",
        "    if amount < 0:\n",
        "        # Get user input and categorize amount\n",
        "        print(f\"\\n>> Date posted: {post_date} - {descr}: ${amount}\")\n",
        "        custom_key = int(input(f\"Which custom category should this go to: \"))\n",
        "        if custom_key not in sorted_spent:\n",
        "            sorted_spent[custom_key] = []\n",
        "        sorted_spent[custom_key].append(amount)\n",
        "\n",
        "        # Brief pause to ensure the user sees the input prompt\n",
        "        time.sleep(0.1)\n",
        "\n",
        "        # Clear the output cell\n",
        "        clear_output(wait=True)\n",
        "        spend_pretty_print(spend_dict)\n",
        "\n",
        "        # Display the last 5 responses\n",
        "        start_index = max(0, index - display_limit + 1)\n",
        "        print(start_index, \" / \", len(data))\n",
        "        for i in range(start_index, index + 1):\n",
        "            prev_row = data[i]\n",
        "            prev_date = prev_row['Post Date']\n",
        "            prev_descr = prev_row['Description']\n",
        "            prev_amount = float(prev_row['Amount'])\n",
        "            if prev_amount < 0:\n",
        "                print(f\"Date posted: {prev_date} - {prev_descr}: ${prev_amount}\")\n"
      ],
      "metadata": {
        "id": "k1W6gEvyQMNm"
      },
      "execution_count": null,
      "outputs": []
    },
    {
      "cell_type": "code",
      "source": [
        "all_sums, exp_sums = 0, 0\n",
        "table = []\n",
        "cats, expected, spent = [], [], []\n",
        "for key in sorted_spent.keys():\n",
        "    amount = -1 * sum(sorted_spent[key])\n",
        "    all_sums += sum(sorted_spent[key])\n",
        "    exp_sums += (-1 * spend_dict[key][1])\n",
        "    cats.append(spend_dict[key][0])\n",
        "    expected.append((spend_dict[key][1]))\n",
        "    spent.append(amount)\n",
        "    table.append([spend_dict[key][0], spend_dict[key][1], amount])\n",
        "\n",
        "column_widths = [max(len(str(row[i])) for row in table) for i in range(3)]\n",
        "# table.append([\"\", \"Total Expected:\", f\"${-1 * exp_sums:.2f}\", \"Total spent:\", f\"${-1 * all_sums:.2f}\"])\n",
        "\n",
        "headers = [\"Category\", \"Expected\", \"Spent\"]\n",
        "for i, header in enumerate(headers):\n",
        "    column_widths[i] = max(column_widths[i], len(header))\n",
        "\n",
        "header_row = \"  \".join(f\"{header:<{column_widths[i]}}\" for i, header in enumerate(headers))\n",
        "print(header_row)\n",
        "print(\"-\" * len(header_row))\n",
        "for row in table:\n",
        "    print(\"  \".join(f\"{str(row[i]):<{column_widths[i]}}\" for i in range(3)))\n",
        "print(\"-----------------------------------------------\")\n",
        "print(\"\")\n",
        "print(f\"Total Expected Expenditure:    ${sum(expected):.2f}\")\n",
        "print(f\"Total Expenditure:             ${sum(spent):.2f}\")\n",
        "print(f\"Difference:                    ${sum(expected) - sum(spent):.2f}\")"
      ],
      "metadata": {
        "id": "kL3ChienJDqq"
      },
      "execution_count": null,
      "outputs": []
    },
    {
      "cell_type": "code",
      "source": [
        "# Bar Chart - Expected vs Actual Spending\n",
        "x = np.arange(len(cats))  # label locations\n",
        "width = 0.35  # bar width\n",
        "\n",
        "fig, ax = plt.subplots(figsize=(12, 8))\n",
        "bars1 = ax.bar(x - width/2, expected, width, label='Expected')\n",
        "bars2 = ax.bar(x + width/2, spent, width, label='Spent')\n",
        "\n",
        "# Labels and title\n",
        "ax.set_xlabel('Categories', fontsize=14)\n",
        "ax.set_ylabel('Amount ($)', fontsize=14)\n",
        "ax.set_title('Budget vs Actual Spending by Category', fontsize=16)\n",
        "ax.set_xticks(x)\n",
        "ax.set_xticklabels(cats, fontsize=12, rotation=45, ha='right')\n",
        "ax.legend(fontsize=12)\n",
        "\n",
        "# Add value labels with padding\n",
        "for bar in bars1 + bars2:\n",
        "    yval = bar.get_height()\n",
        "    ax.text(bar.get_x() + bar.get_width() / 2, yval + 20, f\"${yval:.0f}\", ha='center', va='bottom', fontsize=10)\n",
        "\n",
        "plt.tight_layout()\n",
        "plt.show()"
      ],
      "metadata": {
        "id": "_tZK9pgwLhfg"
      },
      "execution_count": null,
      "outputs": []
    },
    {
      "cell_type": "code",
      "source": [
        "# Pie Chart - Percentage of Total Expected vs. Spent\n",
        "fig, ax = plt.subplots(1, 2, figsize=(14, 7))\n",
        "\n",
        "# Pie chart for Expected\n",
        "ax[0].pie(expected, labels=cats, autopct='%1.1f%%', startangle=140, wedgeprops={'edgecolor': 'black', 'linewidth': 1})\n",
        "ax[0].set_title(\"Expected Spending Distribution\", fontsize=14)\n",
        "\n",
        "# Pie chart for Spent\n",
        "ax[1].pie(spent, labels=cats, autopct='%1.1f%%', startangle=140, wedgeprops={'edgecolor': 'black', 'linewidth': 1})\n",
        "ax[1].set_title(\"Actual Spending Distribution\", fontsize=14)\n",
        "\n",
        "plt.tight_layout()\n",
        "plt.show()"
      ],
      "metadata": {
        "id": "0Y2MjfEQLy63"
      },
      "execution_count": null,
      "outputs": []
    },
    {
      "cell_type": "code",
      "source": [
        "this_month_expected = sum(expected)\n",
        "this_month_spent = sum(spent)\n",
        "this_month_diff = this_month_expected - this_month_spent\n",
        "print(f\"This month expected:   ${this_month_expected:.2f}\")\n",
        "print(f\"This month spent:      ${this_month_spent:.2f}\")\n",
        "print(f\"This month difference: ${this_month_diff:.2f}\")"
      ],
      "metadata": {
        "id": "EnqFlRmmL0PS"
      },
      "execution_count": null,
      "outputs": []
    },
    {
      "cell_type": "code",
      "source": [
        "# 2024 Totals - Must manually update this on your own\n",
        "months = ['Sept']                # List of months\n",
        "monthly_expected = [1915.00]     # Monthly budgeted totals\n",
        "monthly_spent = [3513.49]        # Monthly actual spending totals"
      ],
      "metadata": {
        "id": "UMRKWuKgL0V1"
      },
      "execution_count": null,
      "outputs": []
    },
    {
      "cell_type": "code",
      "source": [
        "fig, ax = plt.subplots(figsize=(8, 4))\n",
        "\n",
        "diff = np.array(monthly_spent) - np.array(monthly_expected)\n",
        "colors = ['green' if d <= 0 else 'red' for d in diff]\n",
        "\n",
        "bars = ax.bar(months, monthly_spent, color=colors, label=\"Spent\")\n",
        "ax.plot(months, monthly_expected, marker='o', color='blue', label=\"Budgeted\", linestyle='--')\n",
        "\n",
        "# Add data labels\n",
        "for bar, d in zip(bars, diff):\n",
        "    ax.text(bar.get_x() + bar.get_width()/2, bar.get_height(), f\"${int(bar.get_height())}\",\n",
        "            ha='center', va='bottom' if d >= 0 else 'top', color=\"black\", fontsize=10)\n",
        "\n",
        "# Labels and title\n",
        "ax.set_xlabel(\"Month\", fontsize=14)\n",
        "ax.set_ylabel(\"Amount ($)\", fontsize=14)\n",
        "ax.set_title(\"Monthly Spending with Over-Budget Highlights\", fontsize=16)\n",
        "ax.legend()\n",
        "\n",
        "plt.tight_layout()\n",
        "plt.show()"
      ],
      "metadata": {
        "id": "ropjGrn5Nw7J"
      },
      "execution_count": null,
      "outputs": []
    },
    {
      "cell_type": "code",
      "source": [],
      "metadata": {
        "id": "f--5hg8ANw9e"
      },
      "execution_count": null,
      "outputs": []
    },
    {
      "cell_type": "code",
      "source": [],
      "metadata": {
        "id": "LV2iZpHANxAG"
      },
      "execution_count": null,
      "outputs": []
    }
  ]
}
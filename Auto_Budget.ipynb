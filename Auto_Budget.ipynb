{
  "nbformat": 4,
  "nbformat_minor": 0,
  "metadata": {
    "colab": {
      "provenance": [],
      "authorship_tag": "ABX9TyNVF+6KVY7827Ca159h+auG",
      "include_colab_link": true
    },
    "kernelspec": {
      "name": "python3",
      "display_name": "Python 3"
    },
    "language_info": {
      "name": "python"
    }
  },
  "cells": [
    {
      "cell_type": "markdown",
      "metadata": {
        "id": "view-in-github",
        "colab_type": "text"
      },
      "source": [
        "<a href=\"https://colab.research.google.com/github/csmaster23/machine_learning_principles/blob/main/Auto_Budget.ipynb\" target=\"_parent\"><img src=\"https://colab.research.google.com/assets/colab-badge.svg\" alt=\"Open In Colab\"/></a>"
      ]
    },
    {
      "cell_type": "code",
      "source": [
        "import os\n",
        "import csv\n",
        "from google.colab import drive\n",
        "import matplotlib.pyplot as plt"
      ],
      "metadata": {
        "id": "LDh0LRKGAf5q"
      },
      "execution_count": null,
      "outputs": []
    },
    {
      "cell_type": "code",
      "execution_count": null,
      "metadata": {
        "id": "ZLNIrrB7AF7K"
      },
      "outputs": [],
      "source": [
        "# Connect your google drive that houses the csv files\n",
        "month_year = \"September 2024\"\n",
        "drive.mount('/content/drive')\n",
        "file_path = '/content/drive/My Drive/Budgets/Auto_Budgets/2024/September/'  # Replace with your file path\n",
        "csv_name = 'Chase_Credit_Sept_2024.CSV'\n",
        "path = os.path.join(file_path, csv_name)\n",
        "print(path)"
      ]
    },
    {
      "cell_type": "code",
      "source": [
        "# Load csv where each row is a dictionary with the appropriate key words for each row from the column names\n",
        "def load_csv(file_path):\n",
        "  data = []\n",
        "  with open(file_path, 'r') as csvfile:\n",
        "    reader = csv.DictReader(csvfile)\n",
        "    for row in reader:\n",
        "      data.append(row)\n",
        "  return data\n",
        "print(f\"Loading {path}...\")\n",
        "data = load_csv(path)\n",
        "print(\"Finished.\")"
      ],
      "metadata": {
        "id": "azX3oN_tAZbg"
      },
      "execution_count": null,
      "outputs": []
    },
    {
      "cell_type": "code",
      "source": [
        "# Find all the potential column names from the uploaded csv\n",
        "keys = data[0].keys()\n",
        "print(keys)"
      ],
      "metadata": {
        "id": "BWHsbgu6BWgT"
      },
      "execution_count": null,
      "outputs": []
    },
    {
      "cell_type": "code",
      "source": [
        "# Get important columns\n",
        "amounts, category, descr = [], [], []\n",
        "for row in data:\n",
        "  if float(row['Amount']) > 0: # ignore payments and returns (positive transactions for the credit card)\n",
        "    continue\n",
        "  amounts.append(row['Amount'])\n",
        "  category.append(row['Category'])\n",
        "  descr.append(row['Description'])\n",
        "print(len(amounts), len(category), len(descr))\n",
        "assert len(amounts) == len(category) == len(descr)"
      ],
      "metadata": {
        "id": "2osH_J79B1ep"
      },
      "execution_count": null,
      "outputs": []
    },
    {
      "cell_type": "code",
      "source": [
        "# Create a dictionary to store the sum of amounts per category\n",
        "category_totals = {}\n",
        "for i in range(len(amounts)):\n",
        "    cat = category[i]\n",
        "    amt = float(amounts[i]) * (-1) # flip from negatives to positive values\n",
        "    if cat in category_totals:\n",
        "        category_totals[cat] += amt\n",
        "    else:\n",
        "        category_totals[cat] = amt\n",
        "\n",
        "# Print the totals per category\n",
        "for cat, total in category_totals.items():\n",
        "    print(f\"{cat}: {total}\")"
      ],
      "metadata": {
        "id": "qG5qyWZoCdu3"
      },
      "execution_count": null,
      "outputs": []
    },
    {
      "cell_type": "code",
      "source": [
        "# Create bar plot for spending by category\n",
        "categories = list(category_totals.keys())\n",
        "totals = list(category_totals.values())\n",
        "\n",
        "plt.figure(figsize=(8, 4))\n",
        "plt.bar(categories, totals, color='skyblue')\n",
        "plt.title(f'Total Spending by Category - {month_year}')\n",
        "plt.xlabel('Category')\n",
        "plt.ylabel('Total Amount ($)')\n",
        "plt.xticks(rotation=45, ha='right')  # Rotate x-axis labels for readability\n",
        "plt.tight_layout()\n",
        "plt.show()"
      ],
      "metadata": {
        "id": "1fn1kffhDus2"
      },
      "execution_count": null,
      "outputs": []
    },
    {
      "cell_type": "code",
      "source": [
        "plt.figure(figsize=(6, 6))\n",
        "plt.pie(totals, labels=categories, autopct='%1.1f%%', colors=plt.cm.Paired.colors)\n",
        "plt.title(f'Spending Breakdown by Category - {month_year}')\n",
        "plt.tight_layout()\n",
        "plt.show()"
      ],
      "metadata": {
        "id": "QkoVyBy8D3T3"
      },
      "execution_count": null,
      "outputs": []
    },
    {
      "cell_type": "code",
      "source": [
        "# Prompt user with actual spending before asking for projection\n",
        "projections = {}\n",
        "for cat in categories:\n",
        "    actual = category_totals[cat]\n",
        "    print(f\"Your actual spending for {cat} in {month_year} was ${actual:.2f}.\")\n",
        "    projection = float(input(f\"What was your projected spending for {cat}? $\"))\n",
        "    projections[cat] = projection"
      ],
      "metadata": {
        "id": "F2pGuO1wE25f"
      },
      "execution_count": null,
      "outputs": []
    },
    {
      "cell_type": "code",
      "source": [
        "# Calculate the differences between actuals and projections\n",
        "differences = {cat: category_totals[cat] - projections[cat] for cat in categories}\n",
        "\n",
        "# Define colors based on whether the user went over or under their projection\n",
        "colors = ['green' if differences[cat] <= 0 else 'red' for cat in categories]\n",
        "\n",
        "# Create the plot showing the difference between actual and projected spending\n",
        "plt.figure(figsize=(6, 4))\n",
        "\n",
        "# Bar plot for differences (positive: over, negative: under)\n",
        "x = range(len(categories))\n",
        "diff_values = list(differences.values())\n",
        "\n",
        "plt.bar(categories, diff_values, color=colors)\n",
        "\n",
        "# Customize plot\n",
        "plt.title(f'Difference Between Actual and Projected Spending - {month_year}')\n",
        "plt.xlabel('Category')\n",
        "plt.ylabel('Difference ($)')\n",
        "plt.axhline(0, color='black', linewidth=1)  # Add horizontal line at 0 for visual clarity\n",
        "plt.xticks(rotation=45, ha='right')\n",
        "plt.tight_layout()\n",
        "plt.show()"
      ],
      "metadata": {
        "id": "VPdNIiMYD9_p"
      },
      "execution_count": null,
      "outputs": []
    },
    {
      "cell_type": "code",
      "source": [
        "# Prepare data for stacked bar plot\n",
        "actuals = [category_totals[cat] for cat in categories]\n",
        "projections_list = [projections[cat] for cat in categories]\n",
        "\n",
        "plt.figure(figsize=(6, 4))\n",
        "\n",
        "# Stacked bars: projected amount in light green and actual in skyblue\n",
        "plt.bar(categories, projections_list, color='blue', label='Projected', align='center')\n",
        "plt.bar(categories, actuals, color='red', label='Actual', align='center', alpha=0.6)\n",
        "\n",
        "plt.title(f'Actual vs Projected Spending (Stacked) - {month_year}')\n",
        "plt.xlabel('Category')\n",
        "plt.ylabel('Amount ($)')\n",
        "plt.xticks(rotation=45, ha='right')\n",
        "plt.legend()\n",
        "plt.tight_layout()\n",
        "plt.show()"
      ],
      "metadata": {
        "id": "IFz2ctfTEZnl"
      },
      "execution_count": null,
      "outputs": []
    },
    {
      "cell_type": "code",
      "source": [],
      "metadata": {
        "id": "Jpn_deAgFTks"
      },
      "execution_count": null,
      "outputs": []
    }
  ]
}